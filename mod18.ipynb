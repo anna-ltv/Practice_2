{
 "cells": [
  {
   "cell_type": "code",
   "execution_count": 19,
   "metadata": {},
   "outputs": [
    {
     "name": "stdout",
     "output_type": "stream",
     "text": [
      "Укажите количество чисел в списке: 9\n",
      "Ваш список:  [-36, 60, -55, -36, 38, 17, -80, -8, -91]\n",
      "Отсортированный список:  [-91, -80, -55, -36, -36, -8, 17, 38, 60]\n",
      "Сумма min и max чисел в списке::  -31\n"
     ]
    }
   ],
   "source": [
    "#Напишите программу, принимающую от пользователя целое число\n",
    "#и формирующую произвольный список чисел от -100 до 100\n",
    "#с количеством элементов, равным введенному числу. После вывода \n",
    "#на экран полученного списка, программа сортирует его методом\n",
    "#пузырька и выводит на экран отсортированный список и сумму мин. и макс. чисел в списке.\n",
    "\n",
    "import random\n",
    "qty = int(input('Укажите количество чисел в списке: '))\n",
    "my_list = []\n",
    "\n",
    "while len(my_list) != qty:\n",
    "    digit = random.randint(-100, 100)\n",
    "    my_list.append(digit)\n",
    "    \n",
    "print(f'Ваш список: ', my_list)\n",
    "\n",
    "def bubbleSort(new_list):\n",
    "    for num in range(len(new_list)-1, 0, -1):\n",
    "        for i in range(num):\n",
    "            if new_list[i] > new_list[i + 1]:\n",
    "                result = new_list[i]\n",
    "                new_list[i] = new_list[i + 1]\n",
    "                new_list[i + 1] = result\n",
    "                \n",
    "bubbleSort(my_list)\n",
    "print(f'Отсортированный список: ', my_list)\n",
    "new_list =  min(my_list) + max(my_list)\n",
    "\n",
    "print(f'Сумма min и max чисел в списке: ', new_list)"
   ]
  },
  {
   "cell_type": "code",
   "execution_count": 113,
   "metadata": {
    "scrolled": true
   },
   "outputs": [],
   "source": [
    "#Дан файл с паролями. Провести проверки паролей на соотв. требованиям:\n",
    "#Больше 7ми знаков, спец. знаков мин 2, цифры мин 2. мин 2 буквы\n",
    "\n",
    "#!\"\\'#$%&()*+-,/:;<=>?@[\\\\]^_{|}~\n"
   ]
  },
  {
   "cell_type": "code",
   "execution_count": 112,
   "metadata": {},
   "outputs": [
    {
     "name": "stdout",
     "output_type": "stream",
     "text": [
      "textemail1@gmail.com @bMZ01ma^ Good password for use\n",
      "textemail2@gmail.com ~}aT*Fyt Not enought Numbers\n",
      "textemail3@gmail.com 1Tw3$Zq! Good password for use\n",
      "textemail4@gmail.com b4$uT?x Not enought Numbers\n",
      "textemail5@gmail.com ~bcanrN Not enought Numbers\n",
      "textemail6@gmail.com ~35YMuf Not enought Symbols\n",
      "textemail7@gmail.com Sy#i*o$ Not enought Numbers\n",
      "textemail8@gmail.com l64a{Kd Not enought Symbols\n",
      "textemail9@gmail.com B8Vq?a3 Not enought Symbols\n",
      "textemail10@gmail.com nuRvANs Not enought Numbers\n"
     ]
    }
   ],
   "source": [
    "with open('password.txt') as f:\n",
    "    textfile = f.read()\n",
    "textfile = textfile.split('\\n')\n",
    "\n",
    "for i in textfile:\n",
    "    result = False\n",
    "    password = i.split(' ')[1]\n",
    "    email = i.split(' ')[0]\n",
    "    b = list(password)\n",
    "    symbols = '!\"\\'#$%&()*+-,/:;<=>?@[\\\\]^_{|}~'\n",
    "    count_numb = [num for num in b if num.isnumeric()]\n",
    "    count_letters = [lett for lett in b if lett.isalpha()]\n",
    "    count_symb = [symb for symb in symbols if symb in password]\n",
    "    if len(password) >= 7:\n",
    "        if len(count_numb) >= 2:\n",
    "            if len(count_letters) >= 2:\n",
    "                if len(count_symb) >= 2:\n",
    "                    print(email, password, 'Good password for use')\n",
    "                else:\n",
    "                    print(email, password, 'Not enought Symbols')\n",
    "            else:\n",
    "                print(email, password, 'Not enought Letters')\n",
    "        else:\n",
    "            print(email, password, 'Not enought Numbers')\n",
    "    else:\n",
    "        print(email, password, 'Too short')"
   ]
  },
  {
   "cell_type": "code",
   "execution_count": 76,
   "metadata": {
    "scrolled": true
   },
   "outputs": [
    {
     "name": "stdout",
     "output_type": "stream",
     "text": [
      "['@', '^']\n",
      "['!', '$']\n",
      "['~']\n",
      "['{']\n",
      "['?']\n",
      "{'textemail1@gmail.com @bMZ01ma^': True, 'textemail2@gmail.com ~}aT*Fyt': False, 'textemail3@gmail.com 1Tw3$Zq!': True, 'textemail4@gmail.com b4$uT?x': False, 'textemail5@gmail.com ~bcanrN': False, 'textemail6@gmail.com ~35YMuf': False, 'textemail7@gmail.com Sy#i*o$': False, 'textemail8@gmail.com l64a{Kd': False, 'textemail9@gmail.com B8Vq?a3': False, 'textemail10@gmail.com nuRvANs': False}\n",
      "Email                Password       \n",
      "textemail1@gmail.com @bMZ01ma^ 1              \n",
      "textemail2@gmail.com ~}aT*Fyt 0              \n",
      "textemail3@gmail.com 1Tw3$Zq! 1              \n",
      "textemail4@gmail.com b4$uT?x 0              \n",
      "textemail5@gmail.com ~bcanrN 0              \n",
      "textemail6@gmail.com ~35YMuf 0              \n",
      "textemail7@gmail.com Sy#i*o$ 0              \n",
      "textemail8@gmail.com l64a{Kd 0              \n",
      "textemail9@gmail.com B8Vq?a3 0              \n",
      "textemail10@gmail.com nuRvANs 0              \n"
     ]
    }
   ],
   "source": [
    "with open('password.txt') as f:\n",
    "    textfile = f.read()\n",
    "textfile = textfile.split(\"\\n\")\n",
    "#print(textfile)\n",
    "dict_text = {}\n",
    "\n",
    "for item in textfile:\n",
    "    result = False\n",
    "    password = item.split(' ')[1]  \n",
    "    if len(password) >= 7:\n",
    "        digits = '0123456789'\n",
    "        num_list = [i for i in password if i in digits]\n",
    "        if len(num_list) >= 2:\n",
    "            letts = 'QWERTYUIOPASDFGHJKLZXCVBNMqwertyuiopasdfghjklzxcvbnm'\n",
    "            letts_list = [j for j in password if j in letts]\n",
    "            if len(letts_list) >= 2:\n",
    "                chars = '!\"\\'#$%&()*+-,/:;<=>?@[\\\\]^_{|}~'\n",
    "                ch_list = [char for char in chars if char in password]\n",
    "                print(ch_list)\n",
    "                if len(ch_list) >= 2:\n",
    "                    result = True                   \n",
    "    dict_text[item] = result\n",
    "print(dict_text)\n",
    "print('{:<20} {:<15}'.format('Email', 'Password'))\n",
    "for v in dict_text.items():\n",
    "    email, val = v\n",
    "    print('{:<20} {:<15}'.format(email, val))"
   ]
  },
  {
   "cell_type": "code",
   "execution_count": 176,
   "metadata": {},
   "outputs": [
    {
     "name": "stdout",
     "output_type": "stream",
     "text": [
      "Введите число для перевода: 600\n",
      "Ваше число не находится в диапазоне 1-99\n"
     ]
    }
   ],
   "source": [
    "#Задача 2. Напишите программу, которая принимает от пользователя число в диапазоне 1-99 и возвращает его прописью\n",
    "\n",
    "number = int(input('Введите число для перевода: '))\n",
    "\n",
    "a = {1: 'один', 2: 'два', 3: 'три', 4: 'четыре', 5: 'пять',\n",
    "     6: 'шесть', 7: 'семь', 8: 'восемь', 9: 'девять'}\n",
    "b = {10: 'десять', 20: 'двадцать', 30: 'тридцать', 40: 'сорок', \n",
    "     50: 'пятьдесят', 60: 'шестьдесят', 70: 'семьдесят',\n",
    "     80: 'восемьдесят', 90: 'девяносто'}\n",
    "c = {11: 'одиннадцать', 12: 'двенадцать', 13: 'тринадцать',\n",
    "     14: 'четырнадцать', 15: 'пятнадцать', 16: 'шестнадцать',\n",
    "     17: 'семнадцать', 18: 'восемнадцать', 19: 'девятнадцать'}\n",
    "number1 = number % 10\n",
    "number2 = number - number1\n",
    "for i in range(number):\n",
    "    if number < 10:\n",
    "        print(a.get(number).capitalize())\n",
    "        break\n",
    "    elif 10 < number < 20:\n",
    "        print(c.get(number).capitalize())\n",
    "        break\n",
    "    elif number >= 10 and number in b:\n",
    "        print(b.get(number).capitalize())\n",
    "        break\n",
    "    elif number >= 100:\n",
    "        print('Ваше число не находится в диапазоне 1-99')\n",
    "        break\n",
    "    else:\n",
    "        print((b.get(number2) + ' ' + a.get(number1)).capitalize())\n",
    "        break"
   ]
  }
 ],
 "metadata": {
  "kernelspec": {
   "display_name": "Python 3",
   "language": "python",
   "name": "python3"
  },
  "language_info": {
   "codemirror_mode": {
    "name": "ipython",
    "version": 3
   },
   "file_extension": ".py",
   "mimetype": "text/x-python",
   "name": "python",
   "nbconvert_exporter": "python",
   "pygments_lexer": "ipython3",
   "version": "3.7.6"
  }
 },
 "nbformat": 4,
 "nbformat_minor": 4
}
